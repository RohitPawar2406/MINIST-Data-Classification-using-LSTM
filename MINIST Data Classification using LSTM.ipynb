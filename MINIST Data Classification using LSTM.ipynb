{
 "cells": [
  {
   "cell_type": "markdown",
   "id": "c4a3875d",
   "metadata": {},
   "source": [
    "# Importing Library"
   ]
  },
  {
   "cell_type": "code",
   "execution_count": 1,
   "id": "65ea7397",
   "metadata": {},
   "outputs": [],
   "source": [
    "import tensorflow as tf\n",
    "from tensorflow.keras.layers import LSTM,Softmax,Input,Flatten,Dense\n",
    "from tensorflow.keras.losses import CategoricalCrossentropy,SparseCategoricalCrossentropy"
   ]
  },
  {
   "cell_type": "code",
   "execution_count": 2,
   "id": "c083d5c4",
   "metadata": {},
   "outputs": [
    {
     "data": {
      "text/plain": [
       "'2.7.0'"
      ]
     },
     "execution_count": 2,
     "metadata": {},
     "output_type": "execute_result"
    }
   ],
   "source": [
    "tf.__version__"
   ]
  },
  {
   "cell_type": "markdown",
   "id": "8d5c5a44",
   "metadata": {},
   "source": [
    "# Importing Datasets"
   ]
  },
  {
   "cell_type": "code",
   "execution_count": 3,
   "id": "024c175c",
   "metadata": {},
   "outputs": [],
   "source": [
    "(x_train, y_train), (x_test, y_test) = tf.keras.datasets.mnist.load_data()"
   ]
  },
  {
   "cell_type": "markdown",
   "id": "3713c123",
   "metadata": {},
   "source": [
    "# LSTM Model "
   ]
  },
  {
   "cell_type": "code",
   "execution_count": 4,
   "id": "b9b9cf24",
   "metadata": {},
   "outputs": [
    {
     "data": {
      "text/plain": [
       "((60000, 28, 28), (60000,), (10000, 28, 28), (10000,))"
      ]
     },
     "execution_count": 4,
     "metadata": {},
     "output_type": "execute_result"
    }
   ],
   "source": [
    "x_train.shape ,y_train.shape, x_test.shape, y_test.shape"
   ]
  },
  {
   "cell_type": "markdown",
   "id": "99462ed5",
   "metadata": {},
   "source": [
    "## Number of classes "
   ]
  },
  {
   "cell_type": "code",
   "execution_count": 5,
   "id": "5e957e54",
   "metadata": {},
   "outputs": [
    {
     "data": {
      "text/plain": [
       "array([0, 1, 2, 3, 4, 5, 6, 7, 8, 9], dtype=uint8)"
      ]
     },
     "execution_count": 5,
     "metadata": {},
     "output_type": "execute_result"
    }
   ],
   "source": [
    "import numpy as np\n",
    "np.unique(y_train)"
   ]
  },
  {
   "cell_type": "markdown",
   "id": "67c57e2d",
   "metadata": {},
   "source": [
    "# Normalissing Image Pixels"
   ]
  },
  {
   "cell_type": "code",
   "execution_count": 6,
   "id": "1e42a53b",
   "metadata": {
    "scrolled": true
   },
   "outputs": [],
   "source": [
    "x_train = x_train/255\n",
    "x_test = x_test/255"
   ]
  },
  {
   "cell_type": "code",
   "execution_count": 7,
   "id": "03af2f2b",
   "metadata": {},
   "outputs": [],
   "source": [
    "# Converting uint to float32\n",
    "x_train = x_train.astype(np.float32)\n",
    "x_test = x_test.astype(np.float32)\n",
    "y_train = y_train.astype(np.float32)\n",
    "y_test = y_test.astype(np.float32)"
   ]
  },
  {
   "cell_type": "markdown",
   "id": "a7f5191b",
   "metadata": {},
   "source": [
    "# Simple LSTM model to Classification"
   ]
  },
  {
   "cell_type": "code",
   "execution_count": 9,
   "id": "a18f6dd6",
   "metadata": {},
   "outputs": [],
   "source": [
    "from tensorflow.keras import Model\n",
    "\n",
    "# Input Layer of 28x28 \n",
    "# This means every row of each image is word so length of sequence is 28 and each word has 28 values of embedding features.\n",
    "inputs = Input(shape=(28,28))\n",
    "\n",
    "output= LSTM(256)(inputs)\n",
    "flatten_layer = Flatten()(output) # Flatten for prediction.\n",
    "\n",
    "output = Dense(10,activation='softmax')(flatten_layer) # last Dense layer\n",
    "\n",
    "model = Model(inputs,output)"
   ]
  },
  {
   "cell_type": "code",
   "execution_count": 10,
   "id": "9726e1b2",
   "metadata": {},
   "outputs": [
    {
     "name": "stdout",
     "output_type": "stream",
     "text": [
      "Model: \"model\"\n",
      "_________________________________________________________________\n",
      " Layer (type)                Output Shape              Param #   \n",
      "=================================================================\n",
      " input_1 (InputLayer)        [(None, 28, 28)]          0         \n",
      "                                                                 \n",
      " lstm (LSTM)                 (None, 256)               291840    \n",
      "                                                                 \n",
      " flatten (Flatten)           (None, 256)               0         \n",
      "                                                                 \n",
      " dense (Dense)               (None, 10)                2570      \n",
      "                                                                 \n",
      "=================================================================\n",
      "Total params: 294,410\n",
      "Trainable params: 294,410\n",
      "Non-trainable params: 0\n",
      "_________________________________________________________________\n"
     ]
    }
   ],
   "source": [
    "model.summary()"
   ]
  },
  {
   "cell_type": "code",
   "execution_count": 11,
   "id": "7ec16d01",
   "metadata": {},
   "outputs": [],
   "source": [
    "model.compile(optimizer='adam', loss=SparseCategoricalCrossentropy(),metrics=['accuracy'])"
   ]
  },
  {
   "cell_type": "code",
   "execution_count": 12,
   "id": "d0c48684",
   "metadata": {
    "scrolled": true
   },
   "outputs": [
    {
     "name": "stdout",
     "output_type": "stream",
     "text": [
      "Epoch 1/5\n",
      "1875/1875 [==============================] - 72s 38ms/step - loss: 0.2857 - accuracy: 0.9072\n",
      "Epoch 2/5\n",
      "1875/1875 [==============================] - 68s 36ms/step - loss: 0.0938 - accuracy: 0.9725\n",
      "Epoch 3/5\n",
      "1875/1875 [==============================] - 72s 38ms/step - loss: 0.0647 - accuracy: 0.9804\n",
      "Epoch 4/5\n",
      "1875/1875 [==============================] - 68s 36ms/step - loss: 0.0528 - accuracy: 0.9839\n",
      "Epoch 5/5\n",
      "1875/1875 [==============================] - 65s 35ms/step - loss: 0.0405 - accuracy: 0.9874\n"
     ]
    }
   ],
   "source": [
    "history = model.fit(x_train,y_train,batch_size=32,shuffle=True,epochs=5,verbose=1)"
   ]
  },
  {
   "cell_type": "code",
   "execution_count": 13,
   "id": "968e091f",
   "metadata": {},
   "outputs": [
    {
     "data": {
      "text/plain": [
       "{'loss': [0.2857265770435333,\n",
       "  0.09380507469177246,\n",
       "  0.0646512508392334,\n",
       "  0.052804287523031235,\n",
       "  0.04050440713763237],\n",
       " 'accuracy': [0.9072499871253967,\n",
       "  0.972516655921936,\n",
       "  0.9804166555404663,\n",
       "  0.9839166402816772,\n",
       "  0.9873999953269958]}"
      ]
     },
     "execution_count": 13,
     "metadata": {},
     "output_type": "execute_result"
    }
   ],
   "source": [
    "history.history"
   ]
  },
  {
   "cell_type": "code",
   "execution_count": 20,
   "id": "d0a71388",
   "metadata": {},
   "outputs": [
    {
     "name": "stdout",
     "output_type": "stream",
     "text": [
      "313/313 [==============================] - 13s 39ms/step - loss: 0.0442 - accuracy: 0.9864\n"
     ]
    },
    {
     "data": {
      "text/plain": [
       "[0.044212982058525085, 0.9864000082015991]"
      ]
     },
     "execution_count": 20,
     "metadata": {},
     "output_type": "execute_result"
    }
   ],
   "source": [
    "model.evaluate(x_test,y_test,batch_size=32)"
   ]
  },
  {
   "cell_type": "markdown",
   "id": "4be6b76b",
   "metadata": {},
   "source": [
    "# Conclusion"
   ]
  },
  {
   "cell_type": "markdown",
   "id": "4794e69f",
   "metadata": {},
   "source": [
    "We have got training accuracy of 98.74 percent and evaluation accuracy of 98.64 percent."
   ]
  }
 ],
 "metadata": {
  "kernelspec": {
   "display_name": "Python 3 (ipykernel)",
   "language": "python",
   "name": "python3"
  },
  "language_info": {
   "codemirror_mode": {
    "name": "ipython",
    "version": 3
   },
   "file_extension": ".py",
   "mimetype": "text/x-python",
   "name": "python",
   "nbconvert_exporter": "python",
   "pygments_lexer": "ipython3",
   "version": "3.8.12"
  }
 },
 "nbformat": 4,
 "nbformat_minor": 5
}
